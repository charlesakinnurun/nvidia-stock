{
 "cells": [
  {
   "cell_type": "markdown",
   "id": "41f73d6d",
   "metadata": {},
   "source": [
    "Import the neccessary libraries"
   ]
  },
  {
   "cell_type": "code",
   "execution_count": 20,
   "id": "9e33b4e8",
   "metadata": {},
   "outputs": [],
   "source": [
    "import yfinance as yf\n",
    "import pandas as pd\n",
    "import numpy as np\n",
    "from sklearn.model_selection import train_test_split,RandomizedSearchCV\n",
    "from sklearn.preprocessing import StandardScaler\n",
    "from sklearn.linear_model import LinearRegression,Ridge\n",
    "from sklearn.svm import SVR\n",
    "from sklearn.ensemble import RandomForestRegressor\n",
    "from sklearn.metrics import mean_squared_error,r2_score\n",
    "import matplotlib.pyplot as plt\n",
    "import warnings"
   ]
  },
  {
   "cell_type": "code",
   "execution_count": 21,
   "id": "36e684ee",
   "metadata": {},
   "outputs": [],
   "source": [
    "warnings.filterwarnings(\"ignore\") # To supress warnings"
   ]
  },
  {
   "cell_type": "code",
   "execution_count": 22,
   "id": "65ea89b1",
   "metadata": {},
   "outputs": [],
   "source": [
    "# Set the global plotting style for better aesthetics\n",
    "plt.style.use(\"fivethirtyeight\")"
   ]
  },
  {
   "cell_type": "markdown",
   "id": "0938b37f",
   "metadata": {},
   "source": [
    "Data Loading and Acquitsion"
   ]
  },
  {
   "cell_type": "code",
   "execution_count": 23,
   "id": "009be6a7",
   "metadata": {},
   "outputs": [],
   "source": [
    "ticker = \"NVDA\""
   ]
  },
  {
   "cell_type": "code",
   "execution_count": 24,
   "id": "f915d01a",
   "metadata": {},
   "outputs": [],
   "source": [
    "def load_data(ticker=\"NVDA\",start_date=\"2023-01-01\",end_date=pd.to_datetime(\"today\").strftime('%Y-%m-%d')):\n",
    "    print(f\"Loading data for {ticker}......\")\n",
    "    # Download historical stock data from the Yahoo Finance\n",
    "    df = yf.download(ticker,start=start_date,end=end_date)\n",
    "    # Target Variable: The prce we want to predict (Next Day's Close Price)\n",
    "    # We shift the \"Close\" column up by -1 day (the future day)\n",
    "    df[\"Target\"] = df[\"Close\"].shift(-1)\n",
    "    # Feature Enginneering: Lagged price Yesterday's Close price is a key predictor for today's price\n",
    "    df[\"Lag_1\"] = df[\"Close\"].shift(-1)\n",
    "    # Feature Engineering: Daily Volatility (High-Low)\n",
    "    df[\"Volatility\"] = df[\"High\"] - df[\"Low\"]\n",
    "    # Drop rows with NaN nvalues created by shift/lag (the first and last rows)\n",
    "    df.dropna(inplace=True)\n",
    "\n",
    "    return df"
   ]
  },
  {
   "cell_type": "code",
   "execution_count": 25,
   "id": "6b75e171",
   "metadata": {},
   "outputs": [
    {
     "name": "stdout",
     "output_type": "stream",
     "text": [
      "Loading data for NVDA......\n"
     ]
    },
    {
     "name": "stderr",
     "output_type": "stream",
     "text": [
      "[*********************100%***********************]  1 of 1 completed\n"
     ]
    }
   ],
   "source": [
    "# Load the NVIDIA data\n",
    "df = load_data()"
   ]
  },
  {
   "cell_type": "code",
   "execution_count": 26,
   "id": "a3898dd9",
   "metadata": {},
   "outputs": [],
   "source": [
    "df.reset_index(inplace=True)"
   ]
  },
  {
   "cell_type": "code",
   "execution_count": 27,
   "id": "fa36c3dd",
   "metadata": {},
   "outputs": [],
   "source": [
    "# Check if data was successfully loaded and is not empty\n",
    "if df.empty:\n",
    "    print(f\"No data retrived for {ticker}. Exiting...\")\n",
    "    exit()"
   ]
  },
  {
   "cell_type": "code",
   "execution_count": 28,
   "id": "5b4cfb63",
   "metadata": {},
   "outputs": [
    {
     "data": {
      "text/html": [
       "<div>\n",
       "<style scoped>\n",
       "    .dataframe tbody tr th:only-of-type {\n",
       "        vertical-align: middle;\n",
       "    }\n",
       "\n",
       "    .dataframe tbody tr th {\n",
       "        vertical-align: top;\n",
       "    }\n",
       "\n",
       "    .dataframe thead tr th {\n",
       "        text-align: left;\n",
       "    }\n",
       "</style>\n",
       "<table border=\"1\" class=\"dataframe\">\n",
       "  <thead>\n",
       "    <tr>\n",
       "      <th>Price</th>\n",
       "      <th>Date</th>\n",
       "      <th>Close</th>\n",
       "      <th>High</th>\n",
       "      <th>Low</th>\n",
       "      <th>Open</th>\n",
       "      <th>Volume</th>\n",
       "      <th>Target</th>\n",
       "      <th>Lag_1</th>\n",
       "      <th>Volatility</th>\n",
       "    </tr>\n",
       "    <tr>\n",
       "      <th>Ticker</th>\n",
       "      <th></th>\n",
       "      <th>NVDA</th>\n",
       "      <th>NVDA</th>\n",
       "      <th>NVDA</th>\n",
       "      <th>NVDA</th>\n",
       "      <th>NVDA</th>\n",
       "      <th></th>\n",
       "      <th></th>\n",
       "      <th></th>\n",
       "    </tr>\n",
       "  </thead>\n",
       "  <tbody>\n",
       "    <tr>\n",
       "      <th>0</th>\n",
       "      <td>2023-01-03</td>\n",
       "      <td>14.301479</td>\n",
       "      <td>14.981837</td>\n",
       "      <td>14.082686</td>\n",
       "      <td>14.836973</td>\n",
       "      <td>401277000</td>\n",
       "      <td>14.735071</td>\n",
       "      <td>14.735071</td>\n",
       "      <td>0.899151</td>\n",
       "    </tr>\n",
       "    <tr>\n",
       "      <th>1</th>\n",
       "      <td>2023-01-04</td>\n",
       "      <td>14.735071</td>\n",
       "      <td>14.838973</td>\n",
       "      <td>14.227551</td>\n",
       "      <td>14.553244</td>\n",
       "      <td>431324000</td>\n",
       "      <td>14.251528</td>\n",
       "      <td>14.251528</td>\n",
       "      <td>0.611422</td>\n",
       "    </tr>\n",
       "    <tr>\n",
       "      <th>2</th>\n",
       "      <td>2023-01-05</td>\n",
       "      <td>14.251528</td>\n",
       "      <td>14.550245</td>\n",
       "      <td>14.134638</td>\n",
       "      <td>14.477314</td>\n",
       "      <td>389168000</td>\n",
       "      <td>14.844968</td>\n",
       "      <td>14.844968</td>\n",
       "      <td>0.415607</td>\n",
       "    </tr>\n",
       "    <tr>\n",
       "      <th>3</th>\n",
       "      <td>2023-01-06</td>\n",
       "      <td>14.844968</td>\n",
       "      <td>14.995825</td>\n",
       "      <td>14.020747</td>\n",
       "      <td>14.460331</td>\n",
       "      <td>405044000</td>\n",
       "      <td>15.613240</td>\n",
       "      <td>15.613240</td>\n",
       "      <td>0.975078</td>\n",
       "    </tr>\n",
       "    <tr>\n",
       "      <th>4</th>\n",
       "      <td>2023-01-09</td>\n",
       "      <td>15.613240</td>\n",
       "      <td>16.040836</td>\n",
       "      <td>15.126700</td>\n",
       "      <td>15.269565</td>\n",
       "      <td>504231000</td>\n",
       "      <td>15.893974</td>\n",
       "      <td>15.893974</td>\n",
       "      <td>0.914136</td>\n",
       "    </tr>\n",
       "    <tr>\n",
       "      <th>...</th>\n",
       "      <td>...</td>\n",
       "      <td>...</td>\n",
       "      <td>...</td>\n",
       "      <td>...</td>\n",
       "      <td>...</td>\n",
       "      <td>...</td>\n",
       "      <td>...</td>\n",
       "      <td>...</td>\n",
       "      <td>...</td>\n",
       "    </tr>\n",
       "    <tr>\n",
       "      <th>696</th>\n",
       "      <td>2025-10-13</td>\n",
       "      <td>188.320007</td>\n",
       "      <td>190.110001</td>\n",
       "      <td>185.960007</td>\n",
       "      <td>187.970001</td>\n",
       "      <td>153482800</td>\n",
       "      <td>180.029999</td>\n",
       "      <td>180.029999</td>\n",
       "      <td>4.149994</td>\n",
       "    </tr>\n",
       "    <tr>\n",
       "      <th>697</th>\n",
       "      <td>2025-10-14</td>\n",
       "      <td>180.029999</td>\n",
       "      <td>184.800003</td>\n",
       "      <td>179.699997</td>\n",
       "      <td>184.770004</td>\n",
       "      <td>205641400</td>\n",
       "      <td>179.830002</td>\n",
       "      <td>179.830002</td>\n",
       "      <td>5.100006</td>\n",
       "    </tr>\n",
       "    <tr>\n",
       "      <th>698</th>\n",
       "      <td>2025-10-15</td>\n",
       "      <td>179.830002</td>\n",
       "      <td>184.869995</td>\n",
       "      <td>177.289993</td>\n",
       "      <td>184.800003</td>\n",
       "      <td>214450500</td>\n",
       "      <td>181.809998</td>\n",
       "      <td>181.809998</td>\n",
       "      <td>7.580002</td>\n",
       "    </tr>\n",
       "    <tr>\n",
       "      <th>699</th>\n",
       "      <td>2025-10-16</td>\n",
       "      <td>181.809998</td>\n",
       "      <td>183.279999</td>\n",
       "      <td>179.770004</td>\n",
       "      <td>182.229996</td>\n",
       "      <td>179723300</td>\n",
       "      <td>183.220001</td>\n",
       "      <td>183.220001</td>\n",
       "      <td>3.509995</td>\n",
       "    </tr>\n",
       "    <tr>\n",
       "      <th>700</th>\n",
       "      <td>2025-10-17</td>\n",
       "      <td>183.220001</td>\n",
       "      <td>184.100006</td>\n",
       "      <td>179.750000</td>\n",
       "      <td>180.179993</td>\n",
       "      <td>173135200</td>\n",
       "      <td>182.639999</td>\n",
       "      <td>182.639999</td>\n",
       "      <td>4.350006</td>\n",
       "    </tr>\n",
       "  </tbody>\n",
       "</table>\n",
       "<p>701 rows × 9 columns</p>\n",
       "</div>"
      ],
      "text/plain": [
       "Price        Date       Close        High         Low        Open     Volume  \\\n",
       "Ticker                   NVDA        NVDA        NVDA        NVDA       NVDA   \n",
       "0      2023-01-03   14.301479   14.981837   14.082686   14.836973  401277000   \n",
       "1      2023-01-04   14.735071   14.838973   14.227551   14.553244  431324000   \n",
       "2      2023-01-05   14.251528   14.550245   14.134638   14.477314  389168000   \n",
       "3      2023-01-06   14.844968   14.995825   14.020747   14.460331  405044000   \n",
       "4      2023-01-09   15.613240   16.040836   15.126700   15.269565  504231000   \n",
       "..            ...         ...         ...         ...         ...        ...   \n",
       "696    2025-10-13  188.320007  190.110001  185.960007  187.970001  153482800   \n",
       "697    2025-10-14  180.029999  184.800003  179.699997  184.770004  205641400   \n",
       "698    2025-10-15  179.830002  184.869995  177.289993  184.800003  214450500   \n",
       "699    2025-10-16  181.809998  183.279999  179.770004  182.229996  179723300   \n",
       "700    2025-10-17  183.220001  184.100006  179.750000  180.179993  173135200   \n",
       "\n",
       "Price       Target       Lag_1 Volatility  \n",
       "Ticker                                     \n",
       "0        14.735071   14.735071   0.899151  \n",
       "1        14.251528   14.251528   0.611422  \n",
       "2        14.844968   14.844968   0.415607  \n",
       "3        15.613240   15.613240   0.975078  \n",
       "4        15.893974   15.893974   0.914136  \n",
       "..             ...         ...        ...  \n",
       "696     180.029999  180.029999   4.149994  \n",
       "697     179.830002  179.830002   5.100006  \n",
       "698     181.809998  181.809998   7.580002  \n",
       "699     183.220001  183.220001   3.509995  \n",
       "700     182.639999  182.639999   4.350006  \n",
       "\n",
       "[701 rows x 9 columns]"
      ]
     },
     "execution_count": 28,
     "metadata": {},
     "output_type": "execute_result"
    }
   ],
   "source": [
    "df"
   ]
  },
  {
   "cell_type": "markdown",
   "id": "cc810e1d",
   "metadata": {},
   "source": [
    "Data Preprocessing"
   ]
  },
  {
   "cell_type": "code",
   "execution_count": 29,
   "id": "23388254",
   "metadata": {},
   "outputs": [
    {
     "name": "stdout",
     "output_type": "stream",
     "text": [
      "Missing Values\n",
      "Price       Ticker\n",
      "Date                  0\n",
      "Close       NVDA      0\n",
      "High        NVDA      0\n",
      "Low         NVDA      0\n",
      "Open        NVDA      0\n",
      "Volume      NVDA      0\n",
      "Target                0\n",
      "Lag_1                 0\n",
      "Volatility            0\n",
      "dtype: int64\n"
     ]
    }
   ],
   "source": [
    "# Check for missing values\n",
    "df_missing = df.isnull().sum()\n",
    "print(\"Missing Values\")\n",
    "print(df_missing)"
   ]
  },
  {
   "cell_type": "code",
   "execution_count": 30,
   "metadata": {},
   "outputs": [
    {
     "name": "stdout",
     "output_type": "stream",
     "text": [
      "Duplicated Rows\n",
      "0\n"
     ]
    }
   ],
   "source": [
    "# Check for dupliated rows\n",
    "df_duplicated = df.duplicated().sum()\n",
    "print(\"Duplicated Rows\")\n",
    "print(df_duplicated)"
   ]
  },
  {
   "cell_type": "markdown",
   "id": "14a5f826",
   "metadata": {},
   "source": [
    "Feature Engineering"
   ]
  },
  {
   "cell_type": "code",
   "execution_count": 31,
   "id": "92151cc7",
   "metadata": {},
   "outputs": [],
   "source": [
    "# Define the features (X) and target (y)\n",
    "# Features used for prediction: Today's Close, Yesterday's Close and Today's Volatility\n",
    "features = [\"Close\",\"Lag_1\",\"Volatility\"]\n",
    "X = df[features].values\n",
    "y = df[\"Target\"].values"
   ]
  },
  {
   "cell_type": "markdown",
   "id": "d398b3c3",
   "metadata": {},
   "source": [
    "Data Splitting"
   ]
  },
  {
   "cell_type": "code",
   "execution_count": 32,
   "id": "e1b4ed7a",
   "metadata": {},
   "outputs": [],
   "source": [
    "# Split the data into training (80%) and testing (20%) sets\n",
    "# shuffle=False is cruical for time-series data to maintain temporal order\n",
    "X_train,X_test,y_train,y_test = train_test_split(X,y,test_size=0.2,shuffle=False)"
   ]
  },
  {
   "cell_type": "markdown",
   "id": "32ee360a",
   "metadata": {},
   "source": [
    "Data Scaling"
   ]
  },
  {
   "cell_type": "code",
   "execution_count": 33,
   "id": "fc7ec38a",
   "metadata": {},
   "outputs": [],
   "source": [
    "# Stanadardize features by removing the mean and scaling to unit variance\n",
    "# This is crucial for distance-based algorithms like SVR and Linear Models with regularization\n",
    "scaler = StandardScaler()\n",
    "X_train_scaled = scaler.fit_transform(X_train)\n",
    "X_test_scaled = scaler.transform(X_test) # Use the fitted scaler from the training set"
   ]
  },
  {
   "cell_type": "markdown",
   "id": "2d0c3c4a",
   "metadata": {},
   "source": [
    "Model Definition and Hyperparameter Tuning"
   ]
  },
  {
   "cell_type": "code",
   "execution_count": 34,
   "id": "39d4dd95",
   "metadata": {},
   "outputs": [],
   "source": [
    "# Dictionary to store the best model and its name\n",
    "best_model = {\n",
    "    \"score\":-np.inf,\n",
    "    \"name\":None,\n",
    "    \"model\":None\n",
    "}\n",
    "\n",
    "results = {}"
   ]
  },
  {
   "cell_type": "code",
   "execution_count": 35,
   "id": "a55bd4f5",
   "metadata": {},
   "outputs": [
    {
     "name": "stdout",
     "output_type": "stream",
     "text": [
      "Training Linear Regression......\n"
     ]
    }
   ],
   "source": [
    "# Linear Regresson (No tuning needed)\n",
    "print(\"Training Linear Regression......\")\n",
    "lr_model = LinearRegression()\n",
    "lr_model.fit(X_train_scaled,y_train)\n",
    "lr_pred = lr_model.predict(X_test_scaled)\n",
    "results[\"Linear Regression\"] = {\n",
    "    \"model\":lr_model,\n",
    "    \"y_pred\":lr_pred\n",
    "}"
   ]
  },
  {
   "cell_type": "code",
   "execution_count": 36,
   "id": "c16f61cb",
   "metadata": {},
   "outputs": [
    {
     "name": "stdout",
     "output_type": "stream",
     "text": [
      "Tuning Ridge Regression.......\n"
     ]
    }
   ],
   "source": [
    "# Ridge Regression (Tuning Alpha)\n",
    "print(\"Tuning Ridge Regression.......\")\n",
    "# Define the hyperparameter grid for Ridge (alpha contols regularization strength)\n",
    "ridge_params = {\n",
    "    \"alpha\":np.logspace(-4,2,100)\n",
    "} # 100 values between 0.0001 and 100\n",
    "ridge_search = RandomizedSearchCV(Ridge(random_state=42),ridge_params,n_iter=20,cv=5,scoring=\"neg_mean_squared_error\",random_state=42,n_jobs=-1)\n",
    "ridge_search.fit(X_train_scaled,y_train)\n",
    "ridge_model = ridge_search.best_estimator_\n",
    "ridge_pred = ridge_model.predict(X_test_scaled)\n",
    "results[\"Ridge Regression\"] = {\n",
    "    \"model\":ridge_model,\n",
    "    \"y_pred\":ridge_pred\n",
    "}"
   ]
  },
  {
   "cell_type": "code",
   "execution_count": 37,
   "id": "0a621804",
   "metadata": {},
   "outputs": [
    {
     "name": "stdout",
     "output_type": "stream",
     "text": [
      "Tuning Support Vector Regression (SVR)........\n"
     ]
    }
   ],
   "source": [
    "# Support Vector Regression (SVR) (Tuning C and Gamma)\n",
    "print(\"Tuning Support Vector Regression (SVR)........\")\n",
    "# Define the hyperparameter grid for SVR (C for penalty, gamma for kernel influence)\n",
    "svr_params = {\n",
    "    \"C\":[0.1,1,10,100],\n",
    "    \"gamma\":[\"scale\",\"auto\",0.01,0.1,1],\n",
    "    \"kernel\":[\"rbf\"] # Radial Basis Function (RBF) is best for non-linear data\n",
    "}\n",
    "svr_search = RandomizedSearchCV(SVR(),svr_params,n_iter=10,cv=6,scoring=\"neg_mean_squared_error\",random_state=42,n_jobs=-1)\n",
    "svr_search.fit(X_train_scaled,y_train)\n",
    "svr_model = svr_search.best_estimator_\n",
    "svr_pred = svr_model.predict(X_test_scaled)\n",
    "results[\"Support Vector Regression\"] = {\n",
    "    \"model\":svr_model,\n",
    "    \"y_pred\":svr_pred\n",
    "}"
   ]
  },
  {
   "cell_type": "code",
   "execution_count": 39,
   "id": "29744d12",
   "metadata": {},
   "outputs": [
    {
     "name": "stdout",
     "output_type": "stream",
     "text": [
      "Tuning Random Forest Regressor.......\n"
     ]
    }
   ],
   "source": [
    "# Random Forest Regressor (RFR) (Tuning n_estimators and max_depth)\n",
    "print(\"Tuning Random Forest Regressor.......\")\n",
    "#  Define the hyperparameter grid for Random Forest o(n_estimator= number of tree,max_depth=depth of the trees)\n",
    "rfr_params = {\n",
    "    \"n_estimators\":[50,100,200],\n",
    "    \"max_depth\":[5,10,15,None],\n",
    "    \"min_samples_split\":[2,5]\n",
    "}\n",
    "rfr_search = RandomizedSearchCV(RandomForestRegressor(random_state=42),rfr_params,n_iter=10,cv=3,scoring=\"neg_mean_squared_error\",random_state=42,n_jobs=1)\n",
    "rfr_search.fit(X_train_scaled,y_train)\n",
    "rfr_model = rfr_search.best_estimator_\n",
    "rfr_pred = rfr_model.predict(X_test_scaled)\n",
    "results[\"Random Forest Regressor\"] = {\n",
    "    \"model\":rfr_model,\n",
    "    \"y_pred\":rfr_pred\n",
    "}"
   ]
  },
  {
   "cell_type": "markdown",
   "id": "0b5a6113",
   "metadata": {},
   "source": [
    "Model Comparison and Evaluation"
   ]
  },
  {
   "cell_type": "code",
   "execution_count": 44,
   "id": "fc339a63",
   "metadata": {},
   "outputs": [
    {
     "name": "stdout",
     "output_type": "stream",
     "text": [
      "----- Model Comparsion Reults (R2 Score & RMSE)-----\n",
      "Empty DataFrame\n",
      "Columns: [Model, R2 Score, RMSE, Tuning Params]\n",
      "Index: []\n",
      "Best Performing Model: Linear Regression (R2 Score: 1.0000)\n"
     ]
    }
   ],
   "source": [
    "comparison_df = pd.DataFrame(columns=[\"Model\",\"R2 Score\",\"RMSE\",\"Tuning Params\"])\n",
    "\n",
    "\n",
    "# Evaluate and compare all models\n",
    "for name,data in results.items():\n",
    "    model = data[\"model\"]\n",
    "    y_pred = data[\"y_pred\"]\n",
    "\n",
    "    # Calculate metrics\n",
    "    rmse = np.sqrt(mean_squared_error(y_test,y_pred))\n",
    "    r2 = r2_score(y_test,y_pred)\n",
    "\n",
    "    # Check if the model has the best params attribute from RandomizedSearchCV\n",
    "    #tuning_params = \"N/A\"\n",
    "    #if name in [\"Ridge Regression\",\"Support Vector Regression\",\"Random Forest Regressor\"]:\n",
    "        #tuning_params = eval(f\"{name.split(\" \")[0].lower()}_search\").best_params_\n",
    "\n",
    "    # Store  results\n",
    "    #comparison_df.loc[len(comparison_df)] = [name,r2,rmse,tuning_params]\n",
    "\n",
    "\n",
    "    # Track the best model based on R2 Score\n",
    "    if r2 > best_model[\"score\"]:\n",
    "        best_model[\"score\"] = r2\n",
    "        best_model[\"name\"] = name\n",
    "        best_model[\"model\"] = model\n",
    "        best_model[\"scaler\"] = scaler # Store the fitted scaler\n",
    "        best_model[\"features\"] = features # Store the features names\n",
    "\n",
    "\n",
    "print(\"----- Model Comparsion Reults (R2 Score & RMSE)-----\")\n",
    "print(comparison_df.sort_values(by=\"R2 Score\",ascending=False))\n",
    "print(f\"Best Performing Model: {best_model[\"name\"]} (R2 Score: {best_model[\"score\"]:.4f})\")"
   ]
  },
  {
   "cell_type": "markdown",
   "id": "4f2cc12e",
   "metadata": {},
   "source": [
    "Visualization After Training (Actual vs Predicted)"
   ]
  },
  {
   "cell_type": "code",
   "execution_count": 47,
   "id": "9660cb97",
   "metadata": {},
   "outputs": [
    {
     "data": {
      "image/png": "[encoded data removed]",
      "text/plain": [
       "<Figure size 640x480 with 1 Axes>"
      ]
     },
     "metadata": {},
     "output_type": "display_data"
    }
   ],
   "source": [
    "plt.Figure(figsize=(14,6))\n",
    "plt.title(\"NVIDIA Stock Price Prediction Comparison\")\n",
    "plt.plot(df.index[-len(y_test):],y_test,label=\"Actual Price (Test Data)\",color=\"blue\",linewidth=3) # Actual Prices\n",
    "colors = [\"red\",\"green\",\"orange\",\"purple\"]\n",
    "\n",
    "# Plot the predictions for all models\n",
    "for i,name in enumerate(results.keys()):\n",
    "    plt.plot(df.index[-len(y_test):],results[name][\"y_pred\"],label=f\"{name} Prediction\",alpha=0.7,color=colors[i])\n",
    "\n",
    "plt.xlabel(\"Date\")\n",
    "plt.ylabel(\"Next Day's Closing Price (USD)\")\n",
    "plt.legend(loc=\"upper left\")\n",
    "plt.grid(True)\n",
    "plt.show()"
   ]
  },
  {
   "cell_type": "markdown",
   "id": "1f542108",
   "metadata": {},
   "source": [
    "New Prediction Input Function"
   ]
  },
  {
   "cell_type": "code",
   "execution_count": 48,
   "id": "0ebf6f55",
   "metadata": {},
   "outputs": [
    {
     "name": "stdout",
     "output_type": "stream",
     "text": [
      "----- New Price Prediction -----\n",
      "Using Model: Linear Regression\n",
      "Input Features (Close,Lag_1,Volatility): [183.22000122 182.63999939   4.3500061 ]\n",
      "Predicted Next Day's Close Price: $182.64\n"
     ]
    }
   ],
   "source": [
    "def predict_new_price(current_close,yesterday_close,volatility,model_info):\n",
    "    \"\"\"\n",
    "    Predicts the next day's closing price using the best model.\n",
    "    :param current_close: Today's (last available) closing price.\n",
    "    :param yesterday_close: The closing price from the day before that.\n",
    "    :param volatility: Today's High - Low price difference.\n",
    "    :param model_info: Dictionary containing the best model and scaler.\n",
    "    \"\"\"\n",
    "    # Get the model and scaler from the results\n",
    "    model = model_info[\"model\"]\n",
    "    scaler = model_info[\"scaler\"]\n",
    "    model_name = model_info[\"name\"]\n",
    "\n",
    "    # Create the new input data array (must match the feature order)\n",
    "    new_data = np.array([[current_close,yesterday_close,volatility]])\n",
    "\n",
    "    # Scale the new input data using the fitted training scaler\n",
    "    new_data_scaled = scaler.transform(new_data)\n",
    "\n",
    "    # Make the prediction\n",
    "    predicted_price = model.predict(new_data_scaled)[0]\n",
    "\n",
    "    print(\"----- New Price Prediction -----\")\n",
    "    print(f\"Using Model: {model_name}\")\n",
    "    print(f\"Input Features (Close,Lag_1,Volatility): {new_data[0]}\")\n",
    "    print(f\"Predicted Next Day's Close Price: ${predicted_price:.2f}\")\n",
    "\n",
    "\n",
    "# Example Usage of the New prediction function (using the last point from the dataframe)\n",
    "last_day_features = df.iloc[-1][features].values\n",
    "# We use the features from the last recorded day to predict the price for the next unrecorded day\n",
    "predict_new_price(\n",
    "    current_close=last_day_features[0],\n",
    "    yesterday_close=last_day_features[1],\n",
    "    volatility=last_day_features[2],\n",
    "    model_info=best_model\n",
    ")"
   ]
  }
 ],
 "metadata": {
  "kernelspec": {
   "display_name": "Python 3",
   "language": "python",
   "name": "python3"
  },
  "language_info": {
   "codemirror_mode": {
    "name": "ipython",
    "version": 3
   },
   "file_extension": ".py",
   "mimetype": "text/x-python",
   "name": "python",
   "nbconvert_exporter": "python",
   "pygments_lexer": "ipython3",
   "version": "3.13.3"
  }
 },
 "nbformat": 4,
 "nbformat_minor": 5
}
